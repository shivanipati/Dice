{
 "cells": [
  {
   "cell_type": "code",
   "execution_count": 1,
   "id": "c9bd0113",
   "metadata": {},
   "outputs": [],
   "source": [
    "#Dice roll generator\n",
    "\n",
    "import random \n",
    "    \n",
    "import os\n"
   ]
  },
  {
   "cell_type": "code",
   "execution_count": null,
   "id": "90208530",
   "metadata": {},
   "outputs": [],
   "source": [
    "\n",
    "       \n",
    "        \n",
    "            "
   ]
  },
  {
   "cell_type": "code",
   "execution_count": 2,
   "id": "24996ccf",
   "metadata": {},
   "outputs": [],
   "source": [
    "def num_die():\n",
    "    while True:\n",
    "         try:\n",
    "             num_dice = input(\"number of dice:\")\n",
    "             valid_responses = ['1','one','two','2']\n",
    "             if num_dice not  in valid_responses:\n",
    "                 raise ValueError('1 or 2 only')\n",
    "             else:\n",
    "                 return num_dice\n",
    "         except ValueError as err:\n",
    "             print(err)\n",
    "            "
   ]
  },
  {
   "cell_type": "code",
   "execution_count": 3,
   "id": "fe9f7b40",
   "metadata": {},
   "outputs": [],
   "source": [
    "def roll_dice():\n",
    "     min_value = 1\n",
    "     max_value = 6 \n",
    "     roll_again = 'y' \n",
    "    \n",
    "     while roll_again.lower() == 'yes' or roll_again.lower()== 'y':\n",
    "         os.system('cls' if os.name == 'nt' else 'clear')\n",
    "         amount = num_die()\n",
    "        \n",
    "    \n",
    "    \n",
    "         if amount == '2' or amount == 'two':\n",
    "                 print(\"roll the dice\")\n",
    "                 dice_1 = random.randint(min_value,max_value)\n",
    "                 dice_2 = random.randint(min_value , max_value)\n",
    "\n",
    "                 print(\"the value are :\")\n",
    "                 print(\"Dice one \",dice_1)\n",
    "                 print(\"Dice two \",dice_2)\n",
    "                 print(\"Total \",dice_1 +dice_2)\n",
    "\n",
    "                 roll_again = input(\"roll again ?\")\n",
    "        \n",
    "         else: \n",
    "                print(\"rolling the die... :\")\n",
    "                dice_1 = random.randint(min_value , max_value)\n",
    "                print(f' the value is :{dice_1}')\n",
    "                roll_again = input(\"roll_again ?\" ) \n",
    "        "
   ]
  },
  {
   "cell_type": "code",
   "execution_count": null,
   "id": "627ee2db",
   "metadata": {},
   "outputs": [
    {
     "name": "stdout",
     "output_type": "stream",
     "text": [
      "number of dice:2\n",
      "roll the dice\n",
      "the value are :\n",
      "Dice one  4\n",
      "Dice two  4\n",
      "Total  8\n"
     ]
    }
   ],
   "source": [
    "   \n",
    "if __name__ =='__main__':\n",
    "    roll_dice()\n",
    "       "
   ]
  },
  {
   "cell_type": "code",
   "execution_count": null,
   "id": "55e046c7",
   "metadata": {},
   "outputs": [],
   "source": [
    "\n"
   ]
  },
  {
   "cell_type": "code",
   "execution_count": null,
   "id": "926cd5d4",
   "metadata": {},
   "outputs": [],
   "source": []
  },
  {
   "cell_type": "code",
   "execution_count": null,
   "id": "d1590ee5",
   "metadata": {},
   "outputs": [],
   "source": []
  }
 ],
 "metadata": {
  "kernelspec": {
   "display_name": "Python 3 (ipykernel)",
   "language": "python",
   "name": "python3"
  },
  "language_info": {
   "codemirror_mode": {
    "name": "ipython",
    "version": 3
   },
   "file_extension": ".py",
   "mimetype": "text/x-python",
   "name": "python",
   "nbconvert_exporter": "python",
   "pygments_lexer": "ipython3",
   "version": "3.11.3"
  }
 },
 "nbformat": 4,
 "nbformat_minor": 5
}
